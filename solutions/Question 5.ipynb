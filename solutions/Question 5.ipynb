{
 "cells": [
  {
   "cell_type": "markdown",
   "id": "7a8cf980-c5f5-47f1-afe3-b71e0f765b1d",
   "metadata": {},
   "source": [
    "Objective: Gauge understanding of maintainable code architecture.\n",
    "\n",
    "Task:\n",
    "- Take one of your previously written code blocks and refactor it to be more maintainable and modular. Explain your decisions."
   ]
  },
  {
   "cell_type": "markdown",
   "id": "8c4bd883-3631-4841-92c9-3cec93075e99",
   "metadata": {},
   "source": [
    "Maintainability:\n",
    "1. Separation of conerns\n",
    "2. Descriptive name\n",
    "3. Dependency\n",
    "4. Modularity\n",
    "5. Type hints"
   ]
  },
  {
   "cell_type": "markdown",
   "id": "ff725f1b-026e-4198-9af7-315034947cd5",
   "metadata": {},
   "source": [
    "Performance improvement:\n",
    "- asdfa"
   ]
  },
  {
   "cell_type": "code",
   "execution_count": null,
   "id": "7b924b1c-58af-4b37-aa81-474a41f00785",
   "metadata": {},
   "outputs": [],
   "source": []
  }
 ],
 "metadata": {
  "kernelspec": {
   "display_name": "Python 3 (ipykernel)",
   "language": "python",
   "name": "python3"
  },
  "language_info": {
   "codemirror_mode": {
    "name": "ipython",
    "version": 3
   },
   "file_extension": ".py",
   "mimetype": "text/x-python",
   "name": "python",
   "nbconvert_exporter": "python",
   "pygments_lexer": "ipython3",
   "version": "3.9.7"
  }
 },
 "nbformat": 4,
 "nbformat_minor": 5
}
