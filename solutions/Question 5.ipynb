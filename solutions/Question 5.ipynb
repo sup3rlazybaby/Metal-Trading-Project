{
 "cells": [
  {
   "cell_type": "markdown",
   "id": "7a8cf980-c5f5-47f1-afe3-b71e0f765b1d",
   "metadata": {},
   "source": [
    "**Objective**: Gauge understanding of maintainable code architecture.\n",
    "\n",
    "**Task**: Take one of your previously written code blocks and refactor it to be more maintainable and modular. Explain your decisions."
   ]
  },
  {
   "cell_type": "markdown",
   "id": "096dcb06-cedd-47d6-9c81-cc292fadfba7",
   "metadata": {},
   "source": [
    "# Principles"
   ]
  },
  {
   "cell_type": "markdown",
   "id": "59a5989e-239c-44b5-9203-57d7eab7a04e",
   "metadata": {},
   "source": [
    "In factorising the code in Question 4, the following aspects are considered."
   ]
  },
  {
   "cell_type": "markdown",
   "id": "c5180722-c4ee-4843-84e9-7e3d6bc4e529",
   "metadata": {},
   "source": [
    "### Single responsibility\n",
    "- Each function and class has a single responsibility, which makes the code easier to understand, test, and maintain.\n",
    "- Here, a new `MetalPriceService` class is created for handling operations related to `MetalPrice` data, such as populating from a CSV file and calculating MACD/RSI."
   ]
  },
  {
   "cell_type": "markdown",
   "id": "8c4bd883-3631-4841-92c9-3cec93075e99",
   "metadata": {},
   "source": [
    "### Separation of concerns\n",
    "- The code is separated into smaller functions, each responsible for a specific task. This makes the code easier to understand, test, and maintain.\n",
    "- For example, `calculate_macd_rsi` and `populate_sql_table` has separate concerns. `calculate_macd_rsi` is responsible for calculations from the data, while `populate_sql_table` is responsible for interacting with SQL table. One alternative is combining the them into a `process_csv_async` function (example code is provided below). Although this requires fewer lines of code, the code structure becomes less flexible and harder to understand, test, maintain."
   ]
  },
  {
   "cell_type": "code",
   "execution_count": null,
   "id": "ae7eae6f-0354-4376-bb92-71753a012883",
   "metadata": {},
   "outputs": [],
   "source": [
    "# Example implementation of process_csv_async by combining populate_sql_table and calculate_macd_rsi\n",
    "@log_sql\n",
    "async def process_csv_async(csv_file):\n",
    "    df = pd.read_csv(csv_file)\n",
    "    df['Dates'] = pd.to_datetime(df['Dates'])\n",
    "\n",
    "    # Create an async session\n",
    "    async_session = async_sessionmaker(bind=engine, expire_on_commit=False)\n",
    "    \n",
    "    async with async_session() as session:\n",
    "        for index, row in df.iterrows():\n",
    "            date = row['Dates']\n",
    "            for metal in df.columns[1:]:\n",
    "                price = row[metal]\n",
    "                prices = df[metal]\n",
    "                macd_line, macd_signal = calculate_macd(prices)\n",
    "                rsi = calculate_rsi(prices)\n",
    "\n",
    "                # Create MetalPrice instance\n",
    "                metal_price = MetalPrice(date=date, metal=metal, price=price,\n",
    "                                         macd=macd_line.iloc[index], macd_signal=macd_signal.iloc[index], rsi=rsi.iloc[index])\n",
    "\n",
    "                # Add the MetalPrice instance to the session\n",
    "                session.add(metal_price)\n",
    "                \n",
    "        # Commit changes\n",
    "        await session.commit()\n",
    "\n",
    "    # Close and clean-up pooled connections.\n",
    "    # await engine.dispose()"
   ]
  },
  {
   "cell_type": "markdown",
   "id": "e865486d-cc62-4f11-bc93-02e4604886f6",
   "metadata": {},
   "source": [
    "### Dependency injection\n",
    "- Dependencies, such as the async session, are injected into classes as constructor parameters, rather than being tightly coupled. This improves testability and flexibility.\n",
    "- For example, the `MetalPriceService` class accepts an async session as a dependency, making it easier to test and reuse."
   ]
  },
  {
   "cell_type": "markdown",
   "id": "decf1e8c-5542-43d3-9294-9ecf7efff85f",
   "metadata": {},
   "source": [
    "### Modularity\n",
    "- Function and classes are designed to be reusable and composable, promoting modularity and code reuse.\n",
    "- For example, the `populate_from_csv` and `calculate_macd_rsi` methods of the `MetalPriceService` class can be used independently for different purposes."
   ]
  },
  {
   "cell_type": "markdown",
   "id": "d4e71745-527f-4414-aa2e-00042cb1464e",
   "metadata": {},
   "source": [
    "### General readability\n",
    "- **Descriptive names** are used for functions, classes, and variables to make the code self-explanatory (e.g. `calculate_macd_rsi`).\n",
    "- **Type hints** are used to specify the types of function arguments and return values, improving code readability and maintainability."
   ]
  },
  {
   "cell_type": "markdown",
   "id": "ff725f1b-026e-4198-9af7-315034947cd5",
   "metadata": {},
   "source": [
    "### Encapsulate functionality\n",
    "- Related functionality is encapsulated within classes, promoting encapsulation and information hiding.\n",
    "- The `MetalPriceService` class encapsulates operations related to `MetalPrice` data, such as inserting (`populate_sql_table`), reading (`read_sql_table`), updating (`update_sql_table`) and deleteing (`delete_sql_table`) records."
   ]
  },
  {
   "cell_type": "markdown",
   "id": "4edb3f5c-32f2-48dd-b9a2-3d4cc279595e",
   "metadata": {},
   "source": [
    "# Implementation"
   ]
  },
  {
   "cell_type": "markdown",
   "id": "f8ef21b7-6f84-49e0-a4c0-8d3b1fd7f775",
   "metadata": {},
   "source": [
    "After implementing these software engineering principles, the final code is provided below. Here, the code interacts with `metal_commodity_Q5.db`, a copy of database from Question 3."
   ]
  },
  {
   "cell_type": "code",
   "execution_count": 1,
   "id": "49fc8c53-4b5f-4ff6-ba40-d3954ea20bb0",
   "metadata": {},
   "outputs": [],
   "source": [
    "import asyncio\n",
    "import pandas as pd\n",
    "from sqlalchemy import Column, Integer, String, Float, Date\n",
    "from sqlalchemy.ext.asyncio import create_async_engine, async_sessionmaker\n",
    "from sqlalchemy.orm import DeclarativeBase\n",
    "from datetime import datetime\n",
    "import logging\n",
    "from functools import wraps\n",
    "from typing import Tuple\n",
    "\n",
    "# Configure logging\n",
    "logging.basicConfig(filename='sql_inserts_Q5.log', level=logging.INFO,\n",
    "                    format='%(asctime)s - %(message)s', datefmt='%Y-%m-%d %H:%M:%S')\n",
    "\n",
    "# Define SQLAlchemy engine, specifying additional aiosqlite driver \n",
    "engine = create_async_engine('sqlite+aiosqlite:///metal_commodity_Q5.db')\n",
    "\n",
    "# Define Base class for declarative ORM\n",
    "class Base(DeclarativeBase):\n",
    "    pass\n",
    "\n",
    "# Define MetalPrice ORM class\n",
    "class MetalPrice(Base):\n",
    "    __tablename__ = 'metal_prices'\n",
    "\n",
    "    id = Column(Integer, primary_key=True)\n",
    "    date = Column(Date)\n",
    "    metal = Column(String)\n",
    "    price = Column(Float)\n",
    "    macd = Column(Float)\n",
    "    macd_signal = Column(Float)\n",
    "    rsi = Column(Float)\n",
    "\n",
    "# Define decorator to log SQL operations\n",
    "def log_sql(func):\n",
    "    @wraps(func)    # Preserve metadata of original function, helps debugging\n",
    "    def wrapper(*args, **kwargs):\n",
    "        start_time = datetime.now()\n",
    "        result = func(*args, **kwargs)\n",
    "        end_time = datetime.now()\n",
    "        execution_time = end_time - start_time\n",
    "        logging.info(f\"SQL operation {func.__name__} executed in {execution_time.total_seconds()} seconds (asynchronous)\")\n",
    "        return result\n",
    "    return wrapper\n",
    "\n",
    "# Function to calculate MACD for a series of prices\n",
    "def calculate_macd(prices: pd.Series, slow_period: int = 26, fast_period: int = 12, signal_period: int = 9) -> Tuple[pd.Series, pd.Series]:\n",
    "    slow_ema = prices.ewm(span=slow_period).mean()\n",
    "    fast_ema = prices.ewm(span=fast_period).mean()\n",
    "    macd_line = fast_ema - slow_ema\n",
    "    signal_line = macd_line.ewm(span=signal_period).mean()\n",
    "    return macd_line, signal_line\n",
    "\n",
    "# Function to calculate RSI for a series of prices\n",
    "def calculate_rsi(prices: pd.Series, window: int = 14) -> pd.Series:\n",
    "    delta = prices.diff()\n",
    "    gain = (delta.where(delta > 0, 0)).rolling(window=window).mean()\n",
    "    loss = (-delta.where(delta < 0, 0)).rolling(window=window).mean()\n",
    "    rs = gain / loss\n",
    "    rsi = 100 - (100 / (1 + rs))\n",
    "    return rsi\n",
    "\n",
    "def calculate_macd_rsi(csv_file: str) -> Tuple[pd.DataFrame, pd.Index]:\n",
    "    # Read CSV file into DataFrame\n",
    "    df = pd.read_csv(csv_file)\n",
    "\n",
    "    # Convert 'Dates' column to datetime\n",
    "    df['Dates'] = pd.to_datetime(df['Dates'])\n",
    "\n",
    "    # Extract metal column names\n",
    "    metals = df.columns[1:]\n",
    "\n",
    "    # Iterate over metal columns and calculate MACD, RSI\n",
    "    for metal in metals:\n",
    "        prices = df[metal]\n",
    "        macd_line, macd_signal = calculate_macd(prices)\n",
    "        rsi = calculate_rsi(prices)\n",
    "        df[f'{metal}_macd'] = macd_line\n",
    "        df[f'{metal}_macd_signal'] = macd_signal\n",
    "        df[f'{metal}_rsi'] = rsi\n",
    "\n",
    "    return (df, metals)\n",
    "\n",
    "# Define MetalPriceService class\n",
    "class MetalPriceService:\n",
    "    def __init__(self):\n",
    "        self.async_session  = async_sessionmaker(bind=engine, expire_on_commit=False)\n",
    "\n",
    "    # Define function to populate SQL database\n",
    "    @log_sql\n",
    "    async def populate_sql_table(self, df: pd.DataFrame, metals: pd.Index) -> None:\n",
    "        # Create session\n",
    "        async_session = self.async_session\n",
    "        async with async_session() as session:\n",
    "\n",
    "            # Iterate over DataFrame rows and insert into SQL table\n",
    "            for index, row in df.iterrows():\n",
    "                date = row['Dates']\n",
    "                for metal in metals:\n",
    "                    price = row[metal]\n",
    "                    macd = row[f'{metal}_macd']\n",
    "                    macd_signal = row[f'{metal}_macd_signal']\n",
    "                    rsi = row[f'{metal}_rsi']\n",
    "\n",
    "                    metal_price = MetalPrice(date=date, metal=metal, price=price,\n",
    "                                            macd=macd, macd_signal=macd_signal, rsi=rsi)\n",
    "                    session.add(metal_price)\n",
    "\n",
    "            # Commit changes\n",
    "            await session.commit()\n",
    "    \n",
    "    # Example: Define function to read data in SQL table\n",
    "    @log_sql\n",
    "    async def read_sql_table(self) -> None:\n",
    "        pass\n",
    "    \n",
    "    # Example: Define function to delete data in SQL table\n",
    "    @log_sql\n",
    "    async def update_sql_table(self) -> None:\n",
    "        pass\n",
    "    \n",
    "    # Example: Define function to delete data in SQL table\n",
    "    @log_sql\n",
    "    async def delete_sql_table(self) -> None:\n",
    "        pass\n",
    "    \n",
    "# Define main function to run async tasks\n",
    "async def main():    \n",
    "    # Read CSV file and calculate MACD, RSI\n",
    "    csv_file = 'MarketData_filtered.csv'\n",
    "    service = MetalPriceService()\n",
    "    \n",
    "    # Populate SQL table\n",
    "    df, metals =  calculate_macd_rsi(csv_file)        \n",
    "    await service.populate_sql_table(df, metals)\n",
    "    \n",
    "    # Update SQL table\n",
    "    await service.update_sql_table()\n",
    "    \n",
    "    # Read SQL table\n",
    "    await service.read_sql_table()\n",
    "    \n",
    "    # Delete rows from SQL table\n",
    "    await service.delete_sql_table()"
   ]
  },
  {
   "cell_type": "markdown",
   "id": "5ff1bc66-7090-4067-83ec-3baeb233b193",
   "metadata": {},
   "source": [
    "We'll execute the event routine."
   ]
  },
  {
   "cell_type": "code",
   "execution_count": 2,
   "id": "e31cd2f1-4007-496e-9140-f2e7ab5a8fe0",
   "metadata": {},
   "outputs": [],
   "source": [
    "# Run the main_read() function using asyncio.run() in Jupyter notebook\n",
    "await main()\n",
    "\n",
    "# Run the main_read() function using asyncio.run() in .py script\n",
    "# asyncio.run(main())"
   ]
  },
  {
   "cell_type": "code",
   "execution_count": 3,
   "id": "800b8499-ff87-4723-b11c-9f3dbd4c5592",
   "metadata": {},
   "outputs": [
    {
     "data": {
      "text/plain": [
       "<coroutine object AsyncEngine.dispose at 0x000002A8A5AE1040>"
      ]
     },
     "execution_count": 3,
     "metadata": {},
     "output_type": "execute_result"
    }
   ],
   "source": [
    "# Close and clean-up pooled connections.\n",
    "engine.dispose()"
   ]
  },
  {
   "cell_type": "code",
   "execution_count": null,
   "id": "018fad58-8633-46a7-b93a-dc324765a216",
   "metadata": {},
   "outputs": [],
   "source": []
  }
 ],
 "metadata": {
  "kernelspec": {
   "display_name": "Python 3 (ipykernel)",
   "language": "python",
   "name": "python3"
  },
  "language_info": {
   "codemirror_mode": {
    "name": "ipython",
    "version": 3
   },
   "file_extension": ".py",
   "mimetype": "text/x-python",
   "name": "python",
   "nbconvert_exporter": "python",
   "pygments_lexer": "ipython3",
   "version": "3.9.7"
  }
 },
 "nbformat": 4,
 "nbformat_minor": 5
}
