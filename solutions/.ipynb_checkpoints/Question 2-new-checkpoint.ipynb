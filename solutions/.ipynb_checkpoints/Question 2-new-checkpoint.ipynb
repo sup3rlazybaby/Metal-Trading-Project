{
 "cells": [
  {
   "cell_type": "markdown",
   "id": "1cf27f8f",
   "metadata": {},
   "source": [
    "Schema explained: MetalID and MetalPrice table.\n",
    "- The MetalID table has two columns: id (Primary Key) and metal_name.\n",
    "- The MetalPrice table also has two columns: id (Primary Key) and metal_id (Foreign Key referencing MetalID), along with date and price columns.\n",
    "- The relationship between MetalID and MetalPrice is represented by a one-to-many (1..*) relationship. Each entry in MetalPrice is associated with one metal commodity from MetalID, while each metal commodity in MetalID can have multiple price entries in MetalPrice.\n",
    "\n",
    "Benefits:\n",
    "- Flexibility: The schema allows for storing prices for various metals and accommodates potential future needs for additional fields.\n",
    "- Data Integrity: The foreign key relationship (optional) helps maintain consistency between metal names and their corresponding price data.\n",
    "- Scalability: The design can be easily scaled to include more metals or additional data points related to the price (e.g., open, close, high, low).\n",
    "\n",
    "In this question, SQAlchemy is used for coninuity purpose with question 3, 4 and 5."
   ]
  },
  {
   "cell_type": "markdown",
   "id": "65afc1c2",
   "metadata": {},
   "source": [
    "Print out ERD of proposed schema."
   ]
  },
  {
   "cell_type": "code",
   "execution_count": 16,
   "id": "30ee2a31",
   "metadata": {},
   "outputs": [
    {
     "name": "stdout",
     "output_type": "stream",
     "text": [
      "  +-------------+       +-------------+\n",
      "  |   MetalID   |       |  MetalPrice |\n",
      "  +-------------+       +-------------+\n",
      "  | id (PK)     | 1..*  | id (PK)     |\n",
      "  | metal_name  |<----->| metal_id (FK)|\n",
      "  +-------------+       | date        |\n",
      "                        | price       |\n",
      "                        +-------------+\n"
     ]
    }
   ],
   "source": [
    "# Function to print the ERD\n",
    "def print_erd():\n",
    "    print(\"  +-------------+       +-------------+\")\n",
    "    print(\"  |   MetalID   |       |  MetalPrice |\")\n",
    "    print(\"  +-------------+       +-------------+\")\n",
    "    print(\"  | id (PK)     | 1..*  | id (PK)     |\")\n",
    "    print(\"  | metal_name  |<----->| metal_id (FK)|\")\n",
    "    print(\"  +-------------+       | date        |\")\n",
    "    print(\"                        | price       |\")\n",
    "    print(\"                        +-------------+\")\n",
    "\n",
    "# Print the ERD\n",
    "print_erd()\n"
   ]
  },
  {
   "cell_type": "markdown",
   "id": "75a06981",
   "metadata": {},
   "source": [
    "# Task 1: Create an SQL table schema to store time-series metal prices. Include fields like Date, Metal, Price."
   ]
  },
  {
   "cell_type": "markdown",
   "id": "f26d9bfd",
   "metadata": {},
   "source": [
    "Import modules and create database engine:"
   ]
  },
  {
   "cell_type": "code",
   "execution_count": 1,
   "id": "d183a306",
   "metadata": {},
   "outputs": [],
   "source": [
    "from sqlalchemy import create_engine, Column, Integer, String, Float, Date, ForeignKey\n",
    "from sqlalchemy.ext.declarative import declarative_base\n",
    "from sqlalchemy.orm import relationship"
   ]
  },
  {
   "cell_type": "code",
   "execution_count": 2,
   "id": "261633dc",
   "metadata": {},
   "outputs": [],
   "source": [
    "# Create Base class,for models to get SQLAlchemy ORM functionality\n",
    "Base = declarative_base()"
   ]
  },
  {
   "cell_type": "markdown",
   "id": "6b751c75",
   "metadata": {},
   "source": [
    "Create MetalID table and MetalPrice table."
   ]
  },
  {
   "cell_type": "code",
   "execution_count": 3,
   "id": "9e0ddee3",
   "metadata": {},
   "outputs": [],
   "source": [
    "# Define MetalID table\n",
    "class MetalID(Base):\n",
    "    __tablename__ = 'metal'\n",
    "\n",
    "    id = Column(Integer, primary_key=True)\n",
    "    metal_name = Column(String)\n",
    "    prices = relationship('MetalPrice', backref='metal') # relate MetalPrice object to MetalID via 'metal'\n",
    "\n",
    "# Define MetalPrice table with foreign key relationship\n",
    "class MetalPrice(Base):\n",
    "    __tablename__ = 'metal_price'\n",
    "\n",
    "    id = Column(Integer, primary_key=True)\n",
    "    metal_id = Column(Integer, ForeignKey('metal.id'))\n",
    "    date = Column(Date)\n",
    "    price = Column(Float)"
   ]
  },
  {
   "cell_type": "code",
   "execution_count": 4,
   "id": "e3e718c5",
   "metadata": {},
   "outputs": [],
   "source": [
    "# Create tables in the database\n",
    "engine = create_engine('sqlite:///metal_commodity.db')\n",
    "Base.metadata.create_all(engine)"
   ]
  },
  {
   "cell_type": "markdown",
   "id": "def8ca86",
   "metadata": {},
   "source": [
    "# Task 2: Demonstrate basic CRUD operations"
   ]
  },
  {
   "cell_type": "code",
   "execution_count": 5,
   "id": "1a2d2432",
   "metadata": {},
   "outputs": [],
   "source": [
    "from sqlalchemy.orm import sessionmaker\n",
    "from datetime import date\n",
    "\n",
    "# Create a session for interacting with the database\n",
    "Session = sessionmaker(bind=engine)\n",
    "session = Session()"
   ]
  },
  {
   "cell_type": "markdown",
   "id": "03ce4794",
   "metadata": {},
   "source": [
    "Create."
   ]
  },
  {
   "cell_type": "code",
   "execution_count": 6,
   "id": "ead59c74",
   "metadata": {},
   "outputs": [],
   "source": [
    "# Insert data into MetalID table.\n",
    "# metal1 = MetalID(metal_name=\"Copper\")\n",
    "# metal2 = MetalID(metal_name=\"Aluminum\")\n",
    "# metal3 = MetalID(metal_name=\"Zinc\")\n",
    "# metal4 = MetalID(metal_name=\"Lead\")\n",
    "# metal5 = MetalID(metal_name=\"Tin\")\n",
    "# session.add_all([metal1, metal2, metal3, metal4, metal5])\n",
    "# session.commit()\n",
    "\n",
    "metal_names = [\"Copper\", \"Aluminum\", \"Zinc\", \"Lead\", \"Tin\"]\n",
    "session.add_all([MetalID(metal_name=i) for i in metal_names])\n",
    "session.commit()"
   ]
  },
  {
   "cell_type": "code",
   "execution_count": 7,
   "id": "c27d39df",
   "metadata": {},
   "outputs": [],
   "source": [
    "# Inserting example data into MetalPrice table\n",
    "price1 = MetalPrice(metal_id=1, date=date(2024, 4, 15), price=1800.50)\n",
    "price2 = MetalPrice(metal_id=1, date=date(2024, 4, 16), price=1810.75)\n",
    "price3 = MetalPrice(metal_id=3, date=date(2024, 4, 15), price=25.40)\n",
    "price4 = MetalPrice(metal_id=6, date=date(2024, 4, 16), price=25.80)\n",
    "session.add_all([price1, price2, price3, price4])\n",
    "session.commit()"
   ]
  },
  {
   "cell_type": "markdown",
   "id": "12b3b89a",
   "metadata": {},
   "source": [
    "Read."
   ]
  },
  {
   "cell_type": "code",
   "execution_count": 8,
   "id": "01041dd2",
   "metadata": {},
   "outputs": [
    {
     "name": "stdout",
     "output_type": "stream",
     "text": [
      "Metal ID: 1, Metal Name: Copper\n",
      "Metal ID: 2, Metal Name: Aluminum\n",
      "Metal ID: 3, Metal Name: Zinc\n",
      "Metal ID: 4, Metal Name: Lead\n",
      "Metal ID: 5, Metal Name: Tin\n",
      "-------------------------\n",
      "ID: 1, Metal ID: 1, Date: 2024-04-15, Price: 1800.5\n",
      "ID: 2, Metal ID: 1, Date: 2024-04-16, Price: 1810.75\n",
      "ID: 3, Metal ID: 3, Date: 2024-04-15, Price: 25.4\n",
      "ID: 4, Metal ID: 6, Date: 2024-04-16, Price: 25.8\n"
     ]
    }
   ],
   "source": [
    "# Read from MetalID table\n",
    "metals = session.query(MetalID).all()\n",
    "for metal in metals:\n",
    "    print(f\"Metal ID: {metal.id}, Metal Name: {metal.metal_name}\")\n",
    "print(\"-\"*25)\n",
    "\n",
    "# Read from MetalPrice table\n",
    "prices = session.query(MetalPrice).all()\n",
    "for price in prices:\n",
    "    print(f\"ID: {price.id}, Metal ID: {price.metal_id}, Date: {price.date}, Price: {price.price}\")"
   ]
  },
  {
   "cell_type": "markdown",
   "id": "dc9e2e06",
   "metadata": {},
   "source": [
    "Update."
   ]
  },
  {
   "cell_type": "code",
   "execution_count": 9,
   "id": "ea1a7c52",
   "metadata": {},
   "outputs": [
    {
     "name": "stdout",
     "output_type": "stream",
     "text": [
      "ID: 1, Metal ID: 1, Date: 2024-04-15, Price: 1820.0\n",
      "ID: 2, Metal ID: 1, Date: 2024-04-16, Price: 1810.75\n",
      "ID: 3, Metal ID: 3, Date: 2024-04-15, Price: 25.4\n",
      "ID: 4, Metal ID: 6, Date: 2024-04-16, Price: 25.8\n"
     ]
    }
   ],
   "source": [
    "# Updating data ID=1 in MetalPrice table from 1800.5 to 1820.00\n",
    "price_to_update = session.query(MetalPrice).filter_by(id=1).first()\n",
    "price_to_update.price = 1820.00\n",
    "session.commit()\n",
    "\n",
    "# Print updated MetalPrice table \n",
    "prices = session.query(MetalPrice).all()\n",
    "for price in prices:\n",
    "    print(f\"ID: {price.id}, Metal ID: {price.metal_id}, Date: {price.date}, Price: {price.price}\")"
   ]
  },
  {
   "cell_type": "markdown",
   "id": "2d21e0f0",
   "metadata": {},
   "source": [
    "Delete."
   ]
  },
  {
   "cell_type": "code",
   "execution_count": 10,
   "id": "540d75ed",
   "metadata": {},
   "outputs": [],
   "source": [
    "# Deleting data from MetalID table\n",
    "metal_to_delete = session.query(MetalID).filter_by(id=2).first()\n",
    "session.delete(metal_to_delete)\n",
    "session.commit()\n",
    "\n",
    "# Deleting data from MetalPrice table\n",
    "price_to_delete = session.query(MetalPrice).filter_by(id=4).first()\n",
    "session.delete(price_to_delete)\n",
    "session.commit()\n"
   ]
  },
  {
   "cell_type": "code",
   "execution_count": 11,
   "id": "57fe5d62",
   "metadata": {},
   "outputs": [],
   "source": [
    "# Delete all records from MetalPrice and MetalID tables\n",
    "session.query(MetalPrice).delete()\n",
    "session.query(MetalID).delete()\n",
    "session.commit()"
   ]
  },
  {
   "cell_type": "code",
   "execution_count": 12,
   "id": "c95524d7",
   "metadata": {},
   "outputs": [],
   "source": [
    "# Close session\n",
    "session.close()"
   ]
  }
 ],
 "metadata": {
  "kernelspec": {
   "display_name": "Python 3 (ipykernel)",
   "language": "python",
   "name": "python3"
  },
  "language_info": {
   "codemirror_mode": {
    "name": "ipython",
    "version": 3
   },
   "file_extension": ".py",
   "mimetype": "text/x-python",
   "name": "python",
   "nbconvert_exporter": "python",
   "pygments_lexer": "ipython3",
   "version": "3.9.7"
  },
  "toc": {
   "base_numbering": 1,
   "nav_menu": {},
   "number_sections": true,
   "sideBar": true,
   "skip_h1_title": true,
   "title_cell": "Table of Contents",
   "title_sidebar": "Contents",
   "toc_cell": false,
   "toc_position": {},
   "toc_section_display": true,
   "toc_window_display": true
  }
 },
 "nbformat": 4,
 "nbformat_minor": 5
}
