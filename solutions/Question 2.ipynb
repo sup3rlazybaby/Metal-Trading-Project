{
 "cells": [
  {
   "cell_type": "markdown",
   "id": "1cf27f8f",
   "metadata": {},
   "source": [
    "In this question, SQAlchemy is selected as its pre-installed with python3 and simiplifies itneraction with database thanks to its objective-oriented natures. "
   ]
  },
  {
   "cell_type": "markdown",
   "id": "75a06981",
   "metadata": {},
   "source": [
    "# Task 1: Create an SQL table schema to store time-series metal prices. Include fields like Date, Metal, Price."
   ]
  },
  {
   "cell_type": "markdown",
   "id": "9ee23460",
   "metadata": {},
   "source": [
    "A 1-table SQL schema is created containing ID, metal name, date, price. MACD and RSI are also included in the schema in this Question for continuity with requirement for Question 3."
   ]
  },
  {
   "cell_type": "code",
   "execution_count": 1,
   "id": "c4b54e49",
   "metadata": {},
   "outputs": [
    {
     "name": "stdout",
     "output_type": "stream",
     "text": [
      "+-------------+\n",
      "|  MetalPrice |\n",
      "+-------------+\n",
      "| id (PK)     |\n",
      "| metal       |\n",
      "| date        |\n",
      "| price       |\n",
      "| MACD        |\n",
      "| MACD_signal |\n",
      "| RSI         |\n",
      "+-------------+\n"
     ]
    }
   ],
   "source": [
    "# Function to print the ERD\n",
    "def print_erd():\n",
    "    print(\"+-------------+\")\n",
    "    print(\"|  MetalPrice |\")\n",
    "    print(\"+-------------+\")\n",
    "    print(\"| id (PK)     |\")\n",
    "    print(\"| metal       |\")\n",
    "    print(\"| date        |\")\n",
    "    print(\"| price       |\")\n",
    "    print(\"| MACD        |\")\n",
    "    print(\"| MACD_signal |\")\n",
    "    print(\"| RSI         |\")\n",
    "    print(\"+-------------+\")\n",
    "\n",
    "# Print the ERD\n",
    "print_erd()"
   ]
  },
  {
   "cell_type": "markdown",
   "id": "f26d9bfd",
   "metadata": {},
   "source": [
    "Import modules and create database engine:"
   ]
  },
  {
   "cell_type": "code",
   "execution_count": 2,
   "id": "d183a306",
   "metadata": {},
   "outputs": [],
   "source": [
    "from sqlalchemy import create_engine, Column, Integer, String, Float, Date, ForeignKey\n",
    "from sqlalchemy.ext.declarative import declarative_base\n",
    "from sqlalchemy.orm import relationship"
   ]
  },
  {
   "cell_type": "code",
   "execution_count": 3,
   "id": "261633dc",
   "metadata": {},
   "outputs": [],
   "source": [
    "# Create Base class,for models to get SQLAlchemy ORM functionality\n",
    "Base = declarative_base()"
   ]
  },
  {
   "cell_type": "markdown",
   "id": "6b751c75",
   "metadata": {},
   "source": [
    "Create MetalID table and MetalPrice table."
   ]
  },
  {
   "cell_type": "code",
   "execution_count": 4,
   "id": "9e0ddee3",
   "metadata": {},
   "outputs": [],
   "source": [
    "class MetalPrice(Base):\n",
    "    __tablename__ = 'metal_prices'\n",
    "\n",
    "    id = Column(Integer, primary_key=True)\n",
    "    date = Column(Date)\n",
    "    metal = Column(String)\n",
    "    price = Column(Float)\n",
    "    macd = Column(Float)\n",
    "    macd_signal = Column(Float)\n",
    "    rsi = Column(Float)"
   ]
  },
  {
   "cell_type": "code",
   "execution_count": 5,
   "id": "e3e718c5",
   "metadata": {},
   "outputs": [],
   "source": [
    "# Create tables in the database\n",
    "engine = create_engine('sqlite:///metal_commodity.db')\n",
    "Base.metadata.create_all(engine)"
   ]
  },
  {
   "cell_type": "markdown",
   "id": "def8ca86",
   "metadata": {},
   "source": [
    "# Task 2: Demonstrate basic CRUD operations"
   ]
  },
  {
   "cell_type": "code",
   "execution_count": 6,
   "id": "1a2d2432",
   "metadata": {},
   "outputs": [],
   "source": [
    "from sqlalchemy.orm import sessionmaker\n",
    "from datetime import date\n",
    "\n",
    "# Create a session for interacting with the database\n",
    "Session = sessionmaker(bind=engine)\n",
    "session = Session()"
   ]
  },
  {
   "cell_type": "markdown",
   "id": "03ce4794",
   "metadata": {},
   "source": [
    "Create."
   ]
  },
  {
   "cell_type": "code",
   "execution_count": 7,
   "id": "c27d39df",
   "metadata": {},
   "outputs": [],
   "source": [
    "# Inserting example data into MetalPrice table\n",
    "price1 = MetalPrice(metal=\"Aluminum\", date=date(2024, 4, 15), price=1800.50, macd=100, macd_signal=200, rsi=50)\n",
    "price2 = MetalPrice(metal=\"Copper\", date=date(2024, 4, 16), price=1810.75, macd=120, macd_signal=230, rsi=40)\n",
    "price3 = MetalPrice(metal=\"Zinc\", date=date(2024, 4, 15), price=29.00, macd=140, macd_signal=260, rsi=4)\n",
    "price4 = MetalPrice(metal=\"Tin\", date=date(2024, 4, 15), price=42.00, macd=61, macd_signal=90, rsi=40)\n",
    "\n",
    "session.add_all([price1, price2, price3, price4])\n",
    "session.commit()"
   ]
  },
  {
   "cell_type": "markdown",
   "id": "12b3b89a",
   "metadata": {},
   "source": [
    "Read."
   ]
  },
  {
   "cell_type": "code",
   "execution_count": 8,
   "id": "01041dd2",
   "metadata": {},
   "outputs": [
    {
     "name": "stdout",
     "output_type": "stream",
     "text": [
      "ID: 1, Metal: Aluminum, Date: 2024-04-15, Price: 1800.5, MACD: 100.0, MACD_signal: 200.0, RSI: 50.0\n",
      "ID: 2, Metal: Copper, Date: 2024-04-16, Price: 1810.75, MACD: 120.0, MACD_signal: 230.0, RSI: 40.0\n",
      "ID: 3, Metal: Zinc, Date: 2024-04-15, Price: 29.0, MACD: 140.0, MACD_signal: 260.0, RSI: 4.0\n",
      "ID: 4, Metal: Tin, Date: 2024-04-15, Price: 42.0, MACD: 61.0, MACD_signal: 90.0, RSI: 40.0\n"
     ]
    }
   ],
   "source": [
    "# Read from MetalPrice table\n",
    "prices = session.query(MetalPrice).all()\n",
    "for price in prices:\n",
    "    print(f\"ID: {price.id}, Metal: {price.metal}, Date: {price.date}, Price: {price.price}, MACD: {price.macd}, MACD_signal: {price.macd_signal}, RSI: {price.rsi}\")"
   ]
  },
  {
   "cell_type": "markdown",
   "id": "dc9e2e06",
   "metadata": {},
   "source": [
    "Update."
   ]
  },
  {
   "cell_type": "code",
   "execution_count": 9,
   "id": "ea1a7c52",
   "metadata": {},
   "outputs": [
    {
     "name": "stdout",
     "output_type": "stream",
     "text": [
      "ID: 1, Metal: Aluminum, Date: 2024-04-15, Price: 1820.0, MACD: 100.0, MACD_signal: 200.0, RSI: 50.0\n",
      "ID: 2, Metal: Copper, Date: 2024-04-16, Price: 1810.75, MACD: 120.0, MACD_signal: 230.0, RSI: 40.0\n",
      "ID: 3, Metal: Zinc, Date: 2024-04-15, Price: 29.0, MACD: 140.0, MACD_signal: 260.0, RSI: 4.0\n",
      "ID: 4, Metal: Tin, Date: 2024-04-15, Price: 42.0, MACD: 61.0, MACD_signal: 90.0, RSI: 40.0\n"
     ]
    }
   ],
   "source": [
    "# Updating data ID=1 in MetalPrice table from to 1820.00\n",
    "price_to_update = session.query(MetalPrice).filter_by(id=1).first()\n",
    "price_to_update.price = 1820.00\n",
    "session.commit()\n",
    "\n",
    "# Print updated MetalPrice table \n",
    "prices = session.query(MetalPrice).all()\n",
    "for price in prices:\n",
    "    print(f\"ID: {price.id}, Metal: {price.metal}, Date: {price.date}, Price: {price.price}, MACD: {price.macd}, MACD_signal: {price.macd_signal}, RSI: {price.rsi}\")"
   ]
  },
  {
   "cell_type": "markdown",
   "id": "2d21e0f0",
   "metadata": {},
   "source": [
    "Delete."
   ]
  },
  {
   "cell_type": "code",
   "execution_count": 10,
   "id": "540d75ed",
   "metadata": {},
   "outputs": [
    {
     "name": "stdout",
     "output_type": "stream",
     "text": [
      "ID: 1, Metal: Aluminum, Date: 2024-04-15, Price: 1820.0, MACD: 100.0, MACD_signal: 200.0, RSI: 50.0\n",
      "ID: 2, Metal: Copper, Date: 2024-04-16, Price: 1810.75, MACD: 120.0, MACD_signal: 230.0, RSI: 40.0\n",
      "ID: 3, Metal: Zinc, Date: 2024-04-15, Price: 29.0, MACD: 140.0, MACD_signal: 260.0, RSI: 4.0\n"
     ]
    }
   ],
   "source": [
    "# Deleting data from MetalPrice table\n",
    "price_to_delete = session.query(MetalPrice).filter_by(id=4).first()\n",
    "session.delete(price_to_delete)\n",
    "session.commit()\n",
    "\n",
    "# Print updated MetalPrice table \n",
    "prices = session.query(MetalPrice).all()\n",
    "for price in prices:\n",
    "    print(f\"ID: {price.id}, Metal: {price.metal}, Date: {price.date}, Price: {price.price}, MACD: {price.macd}, MACD_signal: {price.macd_signal}, RSI: {price.rsi}\")\n"
   ]
  },
  {
   "cell_type": "code",
   "execution_count": 11,
   "id": "3949bf49",
   "metadata": {},
   "outputs": [],
   "source": [
    "# Delete all records from MetalPrice and MetalID tables\n",
    "session.query(MetalPrice).delete()\n",
    "session.commit()\n",
    "\n",
    "# Print updated MetalPrice table \n",
    "prices = session.query(MetalPrice).all()\n",
    "for price in prices:\n",
    "    print(f\"ID: {price.id}, Metal: {price.metal}, Date: {price.date}, Price: {price.price}, MACD: {price.macd}, MACD_signal: {price.macd_signal}, RSI: {price.rsi}\")"
   ]
  },
  {
   "cell_type": "code",
   "execution_count": 12,
   "id": "c95524d7",
   "metadata": {},
   "outputs": [],
   "source": [
    "# Close session (optinal)\n",
    "session.close()"
   ]
  },
  {
   "cell_type": "markdown",
   "id": "c9dfdb83",
   "metadata": {},
   "source": [
    "# Improvement to schema"
   ]
  },
  {
   "cell_type": "markdown",
   "id": "9c64efca",
   "metadata": {},
   "source": [
    "This solution was based on requirement of using 1 SQL as specified in the brief. Using 1 table is simply. However, for complex data, using 1-table schema can limit flexibility, as adding additional metadata or properties specific to each metal may require schema changes.\n",
    "\n",
    "\n",
    "New schema explained: MetalID and MetalPrice table.\n",
    "- The MetalID table has two columns: id (Primary Key) and metal_name.\n",
    "- The MetalPrice table also has two columns: id (Primary Key) and metal_id (Foreign Key referencing MetalID), along with date, price, MACD, MACD_signal, RSI columns.\n",
    "- The relationship between MetalID and MetalPrice is represented by a one-to-many (1..*) relationship. Each entry in MetalPrice is associated with one metal commodity from MetalID, while each metal commodity in MetalID can have multiple price entries in MetalPrice.\n",
    "\n",
    "Benefits:\n",
    "- Flexibility: The schema allows for storing prices for various metals and accommodates potential future needs for additional fields.\n",
    "- Data Integrity: The foreign key relationship (optional) helps maintain consistency between metal names and their corresponding price data.\n",
    "- Scalability: The design can be easily scaled to include more metals or additional data points related to the price (e.g., open, close, high, low)."
   ]
  },
  {
   "cell_type": "code",
   "execution_count": 13,
   "id": "53778897",
   "metadata": {},
   "outputs": [
    {
     "name": "stdout",
     "output_type": "stream",
     "text": [
      "  +-------------+       +-------------+\n",
      "  |   MetalID   |       |  MetalPrice |\n",
      "  +-------------+       +-------------+\n",
      "  | id (PK)     | 1..*  | id (PK)     |\n",
      "  | metal_name  |<----->| metal_id (FK)|\n",
      "  +-------------+       | date        |\n",
      "                        | price       |\n",
      "                        | MACD        |\n",
      "                        | MACD_signal |\n",
      "                        | RSI         |\n",
      "                        +-------------+\n"
     ]
    }
   ],
   "source": [
    "# Function to print the ERD\n",
    "def print_erd_improved():\n",
    "    print(\"  +-------------+       +-------------+\")\n",
    "    print(\"  |   MetalID   |       |  MetalPrice |\")\n",
    "    print(\"  +-------------+       +-------------+\")\n",
    "    print(\"  | id (PK)     | 1..*  | id (PK)     |\")\n",
    "    print(\"  | metal_name  |<----->| metal_id (FK)|\")\n",
    "    print(\"  +-------------+       | date        |\")\n",
    "    print(\"                        | price       |\")\n",
    "    print(\"                        | MACD        |\")\n",
    "    print(\"                        | MACD_signal |\")\n",
    "    print(\"                        | RSI         |\")\n",
    "    print(\"                        +-------------+\")\n",
    "\n",
    "# Print the ERD\n",
    "print_erd_improved()\n"
   ]
  },
  {
   "cell_type": "code",
   "execution_count": null,
   "id": "207a7ede",
   "metadata": {},
   "outputs": [],
   "source": [
    "# Create tables in the database\n",
    "engine = create_engine('sqlite:///metal_commodity_improved.db')\n",
    "Base.metadata.create_all(engine)"
   ]
  },
  {
   "cell_type": "markdown",
   "id": "6e382fc4",
   "metadata": {},
   "source": [
    "This 2-table schema can be created using the following methods."
   ]
  },
  {
   "cell_type": "code",
   "execution_count": null,
   "id": "5bbc8232",
   "metadata": {},
   "outputs": [],
   "source": [
    "# Define MetalID_i table\n",
    "class MetalID(Base):\n",
    "    __tablename__ = 'metal'\n",
    "\n",
    "    id = Column(Integer, primary_key=True)\n",
    "    metal_name = Column(String)\n",
    "    prices = relationship('MetalPrice', backref='metal') # relate MetalPrice object to MetalID via 'metal'\n",
    "\n",
    "# Define MetalPrice table with foreign key relationship\n",
    "class MetalPrice(Base):\n",
    "    __tablename__ = 'metal_price'\n",
    "\n",
    "    id = Column(Integer, primary_key=True)\n",
    "    metal_id = Column(Integer, ForeignKey('metal.id'))\n",
    "    date = Column(Date)\n",
    "    price = Column(Float)"
   ]
  }
 ],
 "metadata": {
  "kernelspec": {
   "display_name": "Python 3 (ipykernel)",
   "language": "python",
   "name": "python3"
  },
  "language_info": {
   "codemirror_mode": {
    "name": "ipython",
    "version": 3
   },
   "file_extension": ".py",
   "mimetype": "text/x-python",
   "name": "python",
   "nbconvert_exporter": "python",
   "pygments_lexer": "ipython3",
   "version": "3.9.7"
  },
  "toc": {
   "base_numbering": 1,
   "nav_menu": {},
   "number_sections": true,
   "sideBar": true,
   "skip_h1_title": true,
   "title_cell": "Table of Contents",
   "title_sidebar": "Contents",
   "toc_cell": false,
   "toc_position": {},
   "toc_section_display": true,
   "toc_window_display": true
  }
 },
 "nbformat": 4,
 "nbformat_minor": 5
}
