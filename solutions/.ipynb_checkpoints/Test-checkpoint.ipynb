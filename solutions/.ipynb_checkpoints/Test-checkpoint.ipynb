{
 "cells": [
  {
   "cell_type": "code",
   "execution_count": 5,
   "id": "79ebead5-ed4c-408a-8a1a-98cbcf054a56",
   "metadata": {},
   "outputs": [
    {
     "name": "stdout",
     "output_type": "stream",
     "text": [
      "fun\n",
      "done\n"
     ]
    },
    {
     "name": "stderr",
     "output_type": "stream",
     "text": [
      "C:\\Users\\sn621\\AppData\\Local\\Temp\\ipykernel_11060\\3548039091.py:5: RuntimeWarning: coroutine 'sleep' was never awaited\n",
      "  asyncio.sleep(3)\n",
      "RuntimeWarning: Enable tracemalloc to get the object allocation traceback\n"
     ]
    }
   ],
   "source": [
    "import asyncio\n",
    "# loop = asyncio.get_event_loop()\n",
    "async def fun():\n",
    "  print(\"fun\")\n",
    "  asyncio.sleep(3)\n",
    "  print(\"done\")\n",
    "\n",
    "await fun()\n",
    "# asyncio.run_coroutine_threadsafe(fun(), loop)\n",
    "# loop.create_task(fun())"
   ]
  },
  {
   "cell_type": "code",
   "execution_count": null,
   "id": "ee94afeb-e019-4eea-89d2-66fcfc4fdec1",
   "metadata": {},
   "outputs": [],
   "source": []
  }
 ],
 "metadata": {
  "kernelspec": {
   "display_name": "Python 3 (ipykernel)",
   "language": "python",
   "name": "python3"
  },
  "language_info": {
   "codemirror_mode": {
    "name": "ipython",
    "version": 3
   },
   "file_extension": ".py",
   "mimetype": "text/x-python",
   "name": "python",
   "nbconvert_exporter": "python",
   "pygments_lexer": "ipython3",
   "version": "3.9.7"
  }
 },
 "nbformat": 4,
 "nbformat_minor": 5
}
