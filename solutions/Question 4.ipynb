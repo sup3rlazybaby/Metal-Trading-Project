{
 "cells": [
  {
   "cell_type": "markdown",
   "id": "b399eda5",
   "metadata": {},
   "source": [
    "Async Data Pipeline\n",
    "\n",
    "Tasks:\n",
    "- Modify Question 3 to write data to the database asynchronously .\n",
    "- Read from the database 5 times concurrantly using async (hint: asyncio.gather())"
   ]
  },
  {
   "cell_type": "markdown",
   "id": "197ed90a",
   "metadata": {},
   "source": [
    "# Task 1: Modify Question 3 to write data to the database asynchronously."
   ]
  },
  {
   "cell_type": "markdown",
   "id": "49bd58d8",
   "metadata": {},
   "source": [
    "For continuity, SQLAlchemy is used for both synchronous and asynchronous database operations. This helps to create a unified codebase and easier maintenance."
   ]
  },
  {
   "cell_type": "markdown",
   "id": "70acbbab",
   "metadata": {},
   "source": [
    "To ensure independency between databases of question 3, this exercise will interact with a copy of previous database, named \"metal_commodity_Q4.db\"."
   ]
  },
  {
   "cell_type": "code",
   "execution_count": 10,
   "id": "1ba81f78",
   "metadata": {},
   "outputs": [],
   "source": [
    "import pandas as pd\n",
    "import asyncio\n",
    "from sqlalchemy import create_engine, select, Column, Integer, String, Float, Date\n",
    "from sqlalchemy.ext.declarative import declarative_base\n",
    "from sqlalchemy.ext.asyncio import AsyncSession, create_async_engine, async_sessionmaker\n",
    "from sqlalchemy.orm import sessionmaker, DeclarativeBase\n",
    "from datetime import datetime\n",
    "import logging\n",
    "from functools import wraps"
   ]
  },
  {
   "cell_type": "markdown",
   "id": "6e654870",
   "metadata": {},
   "source": [
    "Then, we configure logging."
   ]
  },
  {
   "cell_type": "code",
   "execution_count": 2,
   "id": "1910950d",
   "metadata": {},
   "outputs": [],
   "source": [
    "# Configure logging\n",
    "logging.basicConfig(filename='sql_inserts_Q4.log', level=logging.INFO,\n",
    "                    format='%(asctime)s - %(message)s', datefmt='%Y-%m-%d %H:%M:%S')"
   ]
  },
  {
   "cell_type": "markdown",
   "id": "94bd90c7",
   "metadata": {},
   "source": [
    "Next, we create SQLAlchemy engine for asynchronous operations, using additional aiosqlite as async driver."
   ]
  },
  {
   "cell_type": "code",
   "execution_count": 3,
   "id": "b3114021",
   "metadata": {},
   "outputs": [],
   "source": [
    "engine = create_async_engine('sqlite+aiosqlite:///metal_commodity_q4.db')  # Use future=True for asyncio compatibility"
   ]
  },
  {
   "cell_type": "markdown",
   "id": "369fb26e",
   "metadata": {},
   "source": [
    "Next, the ORM classes, function for logging and functions to calculate MACD and RSI are created in the same way as in Question 3."
   ]
  },
  {
   "cell_type": "code",
   "execution_count": 8,
   "id": "5333dab1",
   "metadata": {},
   "outputs": [],
   "source": [
    "# Define Base class for declarative ORM\n",
    "class Base(DeclarativeBase):\n",
    "    pass\n",
    "\n",
    "# Define MetalPrice ORM class\n",
    "class MetalPrice(Base):\n",
    "    __tablename__ = 'metal_prices'\n",
    "\n",
    "    id = Column(Integer, primary_key=True)\n",
    "    date = Column(Date)\n",
    "    metal = Column(String)\n",
    "    price = Column(Float)\n",
    "    macd = Column(Float)\n",
    "    macd_signal = Column(Float)\n",
    "    rsi = Column(Float)\n",
    "\n",
    "# Define decorator to log SQL operations\n",
    "def log_sql(func):\n",
    "    @wraps(func)    # Preserve metadata of original function, helps debugging\n",
    "    def wrapper(*args, **kwargs):\n",
    "        start_time = datetime.now()\n",
    "        result = func(*args, **kwargs)\n",
    "        end_time = datetime.now()\n",
    "        execution_time = end_time - start_time\n",
    "        logging.info(f\"SQL operation {func.__name__} executed in {execution_time.total_seconds()} seconds (asynchronous)\")\n",
    "        return result\n",
    "    return wrapper\n",
    "\n",
    "# Function to calculate MACD for a series of prices\n",
    "def calculate_macd(prices, slow_period=26, fast_period=12, signal_period=9):\n",
    "    slow_ema = prices.ewm(span=slow_period).mean()\n",
    "    fast_ema = prices.ewm(span=fast_period).mean()\n",
    "    macd_line = fast_ema - slow_ema\n",
    "    signal_line = macd_line.ewm(span=signal_period).mean()\n",
    "    return macd_line, signal_line\n",
    "\n",
    "# Function to calculate RSI for a series of prices\n",
    "def calculate_rsi(prices, window=14):\n",
    "    delta = prices.diff()\n",
    "    gain = (delta.where(delta > 0, 0)).rolling(window=window).mean()\n",
    "    loss = (-delta.where(delta < 0, 0)).rolling(window=window).mean()\n",
    "    rs = gain / loss\n",
    "    rsi = 100 - (100 / (1 + rs))\n",
    "    return rsi\n",
    "\n",
    "# Function to read CSV file and calculate MACD and RSI\n",
    "def calculate_macd_rsi(csv_file):\n",
    "    # Read CSV file into DataFrame\n",
    "    df = pd.read_csv(csv_file)\n",
    "\n",
    "    # Convert 'Dates' column to datetime\n",
    "    df['Dates'] = pd.to_datetime(df['Dates'])\n",
    "\n",
    "    # Extract metal column names\n",
    "    metals = df.columns[1:]\n",
    "\n",
    "    # Iterate over metal columns and calculate MACD, RSI\n",
    "    for metal in metals:\n",
    "        prices = df[metal]\n",
    "        macd_line, macd_signal = calculate_macd(prices)\n",
    "        rsi = calculate_rsi(prices)\n",
    "        df[f'{metal}_macd'] = macd_line\n",
    "        df[f'{metal}_macd_signal'] = macd_signal\n",
    "        df[f'{metal}_rsi'] = rsi\n",
    "\n",
    "    return (df, metals)"
   ]
  },
  {
   "cell_type": "markdown",
   "id": "b8832680",
   "metadata": {},
   "source": [
    "Next, async populate_sql_table() function is created, using 'await' to pause operation until task is complete."
   ]
  },
  {
   "cell_type": "code",
   "execution_count": 6,
   "id": "d934fbfb",
   "metadata": {},
   "outputs": [],
   "source": [
    "# Function to populate SQL table with calculated data\n",
    "@log_sql\n",
    "async def populate_sql_table(df, metals):\n",
    "    # Create session\n",
    "    async_session = async_sessionmaker(bind=engine, expire_on_commit=False)    # SQLAlchemy version > 2.0\n",
    "    async with async_session() as session:\n",
    "\n",
    "        # Iterate over DataFrame rows and insert into SQL table\n",
    "        for index, row in df.iterrows():\n",
    "            date = row['Dates']\n",
    "            for metal in metals:\n",
    "                price = row[metal]\n",
    "                macd = row[f'{metal}_macd']\n",
    "                macd_signal = row[f'{metal}_macd_signal']\n",
    "                rsi = row[f'{metal}_rsi']\n",
    "\n",
    "                metal_price = MetalPrice(date=date, metal=metal, price=price,\n",
    "                                        macd=macd, macd_signal=macd_signal, rsi=rsi)\n",
    "                session.add(metal_price)\n",
    "\n",
    "        # Commit changes\n",
    "        await session.commit()\n",
    "        \n",
    "    # Close and clean-up pooled connections.\n",
    "    await engine.dispose()"
   ]
  },
  {
   "cell_type": "markdown",
   "id": "a15a3ff3",
   "metadata": {},
   "source": [
    "Finally, we run the asynchronous routine above. The main_write() function calls populate_sql_table() and awaits its completion."
   ]
  },
  {
   "cell_type": "code",
   "execution_count": 7,
   "id": "f489d0e6",
   "metadata": {},
   "outputs": [
    {
     "ename": "RuntimeError",
     "evalue": "asyncio.run() cannot be called from a running event loop",
     "output_type": "error",
     "traceback": [
      "\u001b[1;31m---------------------------------------------------------------------------\u001b[0m",
      "\u001b[1;31mRuntimeError\u001b[0m                              Traceback (most recent call last)",
      "\u001b[1;32m~\\AppData\\Local\\Temp/ipykernel_2300/628987663.py\u001b[0m in \u001b[0;36m<module>\u001b[1;34m\u001b[0m\n\u001b[0;32m      9\u001b[0m \u001b[1;33m\u001b[0m\u001b[0m\n\u001b[0;32m     10\u001b[0m \u001b[1;31m# Execute the asyncio event loop\u001b[0m\u001b[1;33m\u001b[0m\u001b[1;33m\u001b[0m\u001b[0m\n\u001b[1;32m---> 11\u001b[1;33m \u001b[0masyncio\u001b[0m\u001b[1;33m.\u001b[0m\u001b[0mrun\u001b[0m\u001b[1;33m(\u001b[0m\u001b[0mmain\u001b[0m\u001b[1;33m(\u001b[0m\u001b[1;33m)\u001b[0m\u001b[1;33m)\u001b[0m\u001b[1;33m\u001b[0m\u001b[1;33m\u001b[0m\u001b[0m\n\u001b[0m",
      "\u001b[1;32m~\\Anaconda3\\lib\\asyncio\\runners.py\u001b[0m in \u001b[0;36mrun\u001b[1;34m(main, debug)\u001b[0m\n\u001b[0;32m     31\u001b[0m     \"\"\"\n\u001b[0;32m     32\u001b[0m     \u001b[1;32mif\u001b[0m \u001b[0mevents\u001b[0m\u001b[1;33m.\u001b[0m\u001b[0m_get_running_loop\u001b[0m\u001b[1;33m(\u001b[0m\u001b[1;33m)\u001b[0m \u001b[1;32mis\u001b[0m \u001b[1;32mnot\u001b[0m \u001b[1;32mNone\u001b[0m\u001b[1;33m:\u001b[0m\u001b[1;33m\u001b[0m\u001b[1;33m\u001b[0m\u001b[0m\n\u001b[1;32m---> 33\u001b[1;33m         raise RuntimeError(\n\u001b[0m\u001b[0;32m     34\u001b[0m             \"asyncio.run() cannot be called from a running event loop\")\n\u001b[0;32m     35\u001b[0m \u001b[1;33m\u001b[0m\u001b[0m\n",
      "\u001b[1;31mRuntimeError\u001b[0m: asyncio.run() cannot be called from a running event loop"
     ]
    }
   ],
   "source": [
    "# Run the async processing function\n",
    "async def main_write():\n",
    "    # Read CSV file and calculate MACD, RSI\n",
    "    csv_file = 'MarketData_filtered.csv'\n",
    "    df, metals =  calculate_macd_rsi(csv_file)             \n",
    "    \n",
    "    # Populate SQL table with calculated data\n",
    "    await populate_sql_table(df, metals)\n",
    "\n",
    "# Execute the asyncio event loop\n",
    "asyncio.run(main_write())"
   ]
  },
  {
   "cell_type": "markdown",
   "id": "fdb3c2ef",
   "metadata": {},
   "source": [
    "# Task 2: - Read from the database 5 times concurrantly using async."
   ]
  },
  {
   "cell_type": "markdown",
   "id": "12ca6206",
   "metadata": {},
   "source": [
    "First, we define define async session."
   ]
  },
  {
   "cell_type": "code",
   "execution_count": null,
   "id": "d9c42665",
   "metadata": {},
   "outputs": [],
   "source": [
    "# Define async session\n",
    "async_session = async_sessionmaker(bind=engine, expire_on_commit=False)    "
   ]
  },
  {
   "cell_type": "markdown",
   "id": "2ec720c4",
   "metadata": {},
   "source": [
    "Next, we define an async function read_data() to asynchronously execute a database query."
   ]
  },
  {
   "cell_type": "code",
   "execution_count": null,
   "id": "efbb443d",
   "metadata": {},
   "outputs": [],
   "source": [
    "# Async function to read data from the database\n",
    "async def read_data(query):\n",
    "    async with async_session() as session:\n",
    "        result = await session.execute(query)\n",
    "        data = result.fetchall()        \n",
    "        return data"
   ]
  },
  {
   "cell_type": "markdown",
   "id": "b45a583d",
   "metadata": {},
   "source": [
    "Next, we create concurrent_reads() function to create list of queries to be run concurrently, in which asyncio.gather() function is used run multiple tasks in parallel."
   ]
  },
  {
   "cell_type": "code",
   "execution_count": null,
   "id": "8e3faf58",
   "metadata": {},
   "outputs": [],
   "source": [
    "# Async function to perform concurrent database reads 5 times\n",
    "async def concurrent_reads():\n",
    "    queries = [\n",
    "        select(MetalPrice).where(MetalPrice.metal == 'COPPER'),     # Example\n",
    "        select(MetalPrice).where(MetalPrice.metal == 'ZINC'),       # Example\n",
    "        select(MetalPrice).where(MetalPrice.date >= '2022-01-01'),  # Example\n",
    "        select(MetalPrice).where(MetalPrice.rsi >= 40),             # Example\n",
    "        select(MetalPrice).where(MetalPrice.macd >=0)               # Example\n",
    "    ]\n",
    "\n",
    "    tasks = []\n",
    "    for idx, query in enumerate(queries):\n",
    "        tasks.append(read_data(query))\n",
    "\n",
    "    # Concurrently execute all tasks\n",
    "    results = await asyncio.gather(*tasks)\n",
    "    return results"
   ]
  },
  {
   "cell_type": "markdown",
   "id": "7a43d18b",
   "metadata": {},
   "source": [
    "Finally, we execute the routine. The main_read() function calls concurrent_reads() and awaits its completion to process the results."
   ]
  },
  {
   "cell_type": "code",
   "execution_count": null,
   "id": "c53e4605",
   "metadata": {},
   "outputs": [],
   "source": [
    "# Main function to run concurrent reads\n",
    "async def main_read():\n",
    "    results = await concurrent_reads()\n",
    "    # Process results as needed\n",
    "    for idx, data in enumerate(results):\n",
    "        print(f\"Results for query {idx}: {data}\")\n",
    "\n",
    "# Run the main_read() function using asyncio.run()\n",
    "asyncio.run(main_read())"
   ]
  },
  {
   "cell_type": "markdown",
   "id": "078542b9",
   "metadata": {},
   "source": [
    "# Improvements"
   ]
  },
  {
   "cell_type": "markdown",
   "id": "a4f2f5f1",
   "metadata": {},
   "source": [
    "[-] Consider using additional database drivers. While SQLAlchemy provides async support, performance is might be more limited  compared to native async database drivers.\n",
    "\n",
    "[-] Benchmark to identify any performance bottlenecks.\n",
    "\n",
    "[-] Modify jupyter notebook to allow async operation."
   ]
  },
  {
   "cell_type": "code",
   "execution_count": null,
   "id": "271090c4",
   "metadata": {},
   "outputs": [],
   "source": []
  }
 ],
 "metadata": {
  "kernelspec": {
   "display_name": "Python 3 (ipykernel)",
   "language": "python",
   "name": "python3"
  },
  "language_info": {
   "codemirror_mode": {
    "name": "ipython",
    "version": 3
   },
   "file_extension": ".py",
   "mimetype": "text/x-python",
   "name": "python",
   "nbconvert_exporter": "python",
   "pygments_lexer": "ipython3",
   "version": "3.9.7"
  },
  "toc": {
   "base_numbering": 1,
   "nav_menu": {},
   "number_sections": true,
   "sideBar": true,
   "skip_h1_title": true,
   "title_cell": "Table of Contents",
   "title_sidebar": "Contents",
   "toc_cell": false,
   "toc_position": {},
   "toc_section_display": true,
   "toc_window_display": true
  }
 },
 "nbformat": 4,
 "nbformat_minor": 5
}
